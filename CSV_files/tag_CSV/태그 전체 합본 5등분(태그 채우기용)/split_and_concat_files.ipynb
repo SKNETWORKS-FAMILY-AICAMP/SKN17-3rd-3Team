{
 "cells": [
  {
   "cell_type": "markdown",
   "id": "2b5b6ee1",
   "metadata": {},
   "source": [
    "### 태그 없는 파일들 분리용 코드입니다."
   ]
  },
  {
   "cell_type": "code",
   "execution_count": 2,
   "id": "c46905e6",
   "metadata": {},
   "outputs": [],
   "source": [
    "import pandas as pd\n",
    "\n",
    "df = pd.read_csv('전체 관광지 태그 데이터(태그없는것들있는버전).csv')"
   ]
  },
  {
   "cell_type": "code",
   "execution_count": null,
   "id": "df8c958c",
   "metadata": {},
   "outputs": [],
   "source": [
    "df[:4001].to_csv('태그빈것들1.csv',index=False)\n",
    "df[4001:8001].to_csv('태그빈것들2.csv',index=False)\n",
    "df[8001:12001].to_csv('태그빈것들3.csv',index=False)\n",
    "df[12001:16001].to_csv('태그빈것들4.csv',index=False)\n",
    "df[16001:].to_csv('태그빈것들5.csv',index=False)"
   ]
  },
  {
   "cell_type": "markdown",
   "id": "2790f83f",
   "metadata": {},
   "source": [
    "----\n",
    "### 태그 채운 파일들 합하는 코드입니다."
   ]
  },
  {
   "cell_type": "code",
   "execution_count": null,
   "id": "0f80b256",
   "metadata": {},
   "outputs": [
    {
     "data": {
      "text/html": [
       "<div>\n",
       "<style scoped>\n",
       "    .dataframe tbody tr th:only-of-type {\n",
       "        vertical-align: middle;\n",
       "    }\n",
       "\n",
       "    .dataframe tbody tr th {\n",
       "        vertical-align: top;\n",
       "    }\n",
       "\n",
       "    .dataframe thead th {\n",
       "        text-align: right;\n",
       "    }\n",
       "</style>\n",
       "<table border=\"1\" class=\"dataframe\">\n",
       "  <thead>\n",
       "    <tr style=\"text-align: right;\">\n",
       "      <th></th>\n",
       "      <th>place</th>\n",
       "      <th>태그</th>\n",
       "    </tr>\n",
       "  </thead>\n",
       "  <tbody>\n",
       "    <tr>\n",
       "      <th>0</th>\n",
       "      <td>사직단</td>\n",
       "      <td>조선의 근본을 상징하는 국왕의 제사터 관광지 문화유적 문화유적돌아보기 서울 서울관광...</td>\n",
       "    </tr>\n",
       "    <tr>\n",
       "      <th>1</th>\n",
       "      <td>5·18민주화운동 기록관</td>\n",
       "      <td>그날의 역사와 의의를 자세히 알 수 있는 곳 5.18 518민주화운동기록관 5·18...</td>\n",
       "    </tr>\n",
       "    <tr>\n",
       "      <th>2</th>\n",
       "      <td>상무화훼단지</td>\n",
       "      <td>봄을 먼저 맞이하는 곳 광주가볼만한곳 광주꽃구입 광주꽃단지 광주꽃시장 광주나무구입 ...</td>\n",
       "    </tr>\n",
       "    <tr>\n",
       "      <th>3</th>\n",
       "      <td>서부농수산물도매시장</td>\n",
       "      <td>생산자와 소비자를 보호하는 호남 최대의 도매시장 농수산물 농수산물검사소 농수산물경매...</td>\n",
       "    </tr>\n",
       "    <tr>\n",
       "      <th>4</th>\n",
       "      <td>산동교친수공원</td>\n",
       "      <td>코스모스와 억새 물결이 일렁이는 공원 관광지 광주가볼만한곳 광주코스모스 산동교 산동...</td>\n",
       "    </tr>\n",
       "    <tr>\n",
       "      <th>...</th>\n",
       "      <td>...</td>\n",
       "      <td>...</td>\n",
       "    </tr>\n",
       "    <tr>\n",
       "      <th>19876</th>\n",
       "      <td>문경새재 도립공원</td>\n",
       "      <td>아름다운 자연과 풍경을 품고 있는 도립공원 걷기길 관광지 교귀정 드라마촬영지 문경새...</td>\n",
       "    </tr>\n",
       "    <tr>\n",
       "      <th>19877</th>\n",
       "      <td>소백산국립공원(영주)</td>\n",
       "      <td>사계절 다른 절경을 선사하는 산악형 국립공원 경상권 관광지 눈꽃여행 단풍여행 봄꽃여...</td>\n",
       "    </tr>\n",
       "    <tr>\n",
       "      <th>19878</th>\n",
       "      <td>울진 금강소나무숲길</td>\n",
       "      <td>수백년을 살아온 소나무들과 함께 걸어보자 ! 걷기길 관광지 산책로 산책하기좋은곳 생...</td>\n",
       "    </tr>\n",
       "    <tr>\n",
       "      <th>19879</th>\n",
       "      <td>낙동 승곡마을(농촌체험마을)</td>\n",
       "      <td>경상북도 상주시 농촌체험 휴양마을 경상권 관광지 낙동승곡마을 농촌체험 농촌체험마을 ...</td>\n",
       "    </tr>\n",
       "    <tr>\n",
       "      <th>19880</th>\n",
       "      <td>영지사</td>\n",
       "      <td>영천 구룡산에 있는 의상대사가 창건한 사찰 관광지 불교 불교문화 사찰여행 역사 자연...</td>\n",
       "    </tr>\n",
       "  </tbody>\n",
       "</table>\n",
       "<p>19881 rows × 2 columns</p>\n",
       "</div>"
      ],
      "text/plain": [
       "                 place                                                 태그\n",
       "0                  사직단  조선의 근본을 상징하는 국왕의 제사터 관광지 문화유적 문화유적돌아보기 서울 서울관광...\n",
       "1        5·18민주화운동 기록관  그날의 역사와 의의를 자세히 알 수 있는 곳 5.18 518민주화운동기록관 5·18...\n",
       "2               상무화훼단지  봄을 먼저 맞이하는 곳 광주가볼만한곳 광주꽃구입 광주꽃단지 광주꽃시장 광주나무구입 ...\n",
       "3           서부농수산물도매시장  생산자와 소비자를 보호하는 호남 최대의 도매시장 농수산물 농수산물검사소 농수산물경매...\n",
       "4              산동교친수공원  코스모스와 억새 물결이 일렁이는 공원 관광지 광주가볼만한곳 광주코스모스 산동교 산동...\n",
       "...                ...                                                ...\n",
       "19876        문경새재 도립공원  아름다운 자연과 풍경을 품고 있는 도립공원 걷기길 관광지 교귀정 드라마촬영지 문경새...\n",
       "19877      소백산국립공원(영주)  사계절 다른 절경을 선사하는 산악형 국립공원 경상권 관광지 눈꽃여행 단풍여행 봄꽃여...\n",
       "19878       울진 금강소나무숲길  수백년을 살아온 소나무들과 함께 걸어보자 ! 걷기길 관광지 산책로 산책하기좋은곳 생...\n",
       "19879  낙동 승곡마을(농촌체험마을)  경상북도 상주시 농촌체험 휴양마을 경상권 관광지 낙동승곡마을 농촌체험 농촌체험마을 ...\n",
       "19880              영지사  영천 구룡산에 있는 의상대사가 창건한 사찰 관광지 불교 불교문화 사찰여행 역사 자연...\n",
       "\n",
       "[19881 rows x 2 columns]"
      ]
     },
     "execution_count": 5,
     "metadata": {},
     "output_type": "execute_result"
    }
   ],
   "source": [
    "df1 = pd.read_csv('태그빈것들1.csv')\n",
    "df2 = pd.read_csv('태그빈것들2.csv')\n",
    "df3 = pd.read_csv('태그빈것들3.csv')\n",
    "df4 = pd.read_csv('태그빈것들4.csv')\n",
    "df5 = pd.read_csv('태그빈것들5.csv')\n",
    "\n",
    "pd.concat([df1,df2,df3,df4,df5],axis=0,ignore_index=True).to_csv('최종 관광지 태그 데이터.csv',index=False)"
   ]
  }
 ],
 "metadata": {
  "kernelspec": {
   "display_name": "llm_env",
   "language": "python",
   "name": "python3"
  },
  "language_info": {
   "codemirror_mode": {
    "name": "ipython",
    "version": 3
   },
   "file_extension": ".py",
   "mimetype": "text/x-python",
   "name": "python",
   "nbconvert_exporter": "python",
   "pygments_lexer": "ipython3",
   "version": "3.12.11"
  }
 },
 "nbformat": 4,
 "nbformat_minor": 5
}
