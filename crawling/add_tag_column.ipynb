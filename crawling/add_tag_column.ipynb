{
 "cells": [
  {
   "cell_type": "markdown",
   "id": "d1bc030b",
   "metadata": {},
   "source": [
    "# 태그와 간단한 설명 컬럼 추가하는 코드"
   ]
  },
  {
   "cell_type": "markdown",
   "id": "d580a71e",
   "metadata": {},
   "source": [
    "### 1. 태그 컬럼과 short info 컬럼 추가"
   ]
  },
  {
   "cell_type": "code",
   "execution_count": null,
   "id": "59916cb3",
   "metadata": {},
   "outputs": [],
   "source": [
    "import pandas as pd\n",
    "\n",
    "df = pd.read_csv()"
   ]
  }
 ],
 "metadata": {
  "kernelspec": {
   "display_name": "llm_env",
   "language": "python",
   "name": "python3"
  },
  "language_info": {
   "name": "python",
   "version": "3.12.11"
  }
 },
 "nbformat": 4,
 "nbformat_minor": 5
}
